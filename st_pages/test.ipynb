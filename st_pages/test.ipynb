{
 "cells": [
  {
   "cell_type": "code",
   "execution_count": 34,
   "metadata": {},
   "outputs": [
    {
     "name": "stdout",
     "output_type": "stream",
     "text": [
      "  version    class                                              label source  \\\n",
      "0     2.0  dataset  Average CO2 emissions per km from new passenge...  ESTAT   \n",
      "\n",
      "                    updated                       id            size  \\\n",
      "0  2024-10-08T23:00:00+0200  [freq, geo, time, unit]  [1, 30, 24, 1]   \n",
      "\n",
      "   value.480  value.481  value.482  ...  extension.datastructure.agencyId  \\\n",
      "0        168      165.6      164.4  ...                             ESTAT   \n",
      "\n",
      "   extension.datastructure.version  \\\n",
      "0                              4.0   \n",
      "\n",
      "                                extension.annotation  \\\n",
      "0  [{'type': 'CREATED', 'date': '2017-10-31T11:32...   \n",
      "\n",
      "         extension.status.label.be  extension.status.label.e  \\\n",
      "0  break in time series, estimated                 estimated   \n",
      "\n",
      "   extension.status.label.p  extension.positions-with-no-data.freq  \\\n",
      "0               provisional                                     []   \n",
      "\n",
      "   extension.positions-with-no-data.geo  \\\n",
      "0                                    []   \n",
      "\n",
      "   extension.positions-with-no-data.time  \\\n",
      "0                                     []   \n",
      "\n",
      "   extension.positions-with-no-data.unit  \n",
      "0                                     []  \n",
      "\n",
      "[1 rows x 860 columns]\n"
     ]
    }
   ],
   "source": [
    "import pandas as pd\n",
    "import requests\n",
    "\n",
    "url=\"https://ec.europa.eu/eurostat/api/dissemination/statistics/1.0/data/sdg_13_31?format=JSON&lang=EN\"\n",
    "\n",
    "json_data=requests.get(url)\n",
    "\n",
    "print(data)\n"
   ]
  },
  {
   "cell_type": "code",
   "execution_count": 5,
   "metadata": {},
   "outputs": [
    {
     "name": "stdout",
     "output_type": "stream",
     "text": [
      "     Key  Value\n",
      "0    480  168.0\n",
      "1    481  165.6\n",
      "2    482  164.4\n",
      "3    483  163.8\n",
      "4    484  161.9\n",
      "..   ...    ...\n",
      "600  619  158.0\n",
      "601  620  144.6\n",
      "602  621  138.0\n",
      "603  622  136.8\n",
      "604  623  137.6\n",
      "\n",
      "[605 rows x 2 columns]\n"
     ]
    }
   ],
   "source": [
    "import pandas as pd\n",
    "import requests\n",
    "\n",
    "# URL to fetch the data from Eurostat\n",
    "url = \"https://ec.europa.eu/eurostat/api/dissemination/statistics/1.0/data/sdg_13_31?format=JSON&lang=EN\"\n",
    "\n",
    "# Request the data\n",
    "response = requests.get(url)\n",
    "\n",
    "# Parse the JSON response\n",
    "data = response.json()\n",
    "\n",
    "csv_data = pd.DataFrame(list(data['value'].items()), columns=['Key', 'Value'])\n",
    "\n",
    "#csv_data = pd.DataFrame([(key, item['value'], item['status']) for key, item in data.items()], columns=['Key', 'Value', 'Status'])\n",
    "\n",
    "\n",
    "# Save to a CSV file\n",
    "csv_data.to_csv('eurostat_data.csv', index=False)\n",
    "\n",
    "# Optional: print or view the csv_data variable\n",
    "print(csv_data)\n",
    "\n",
    "\n"
   ]
  },
  {
   "cell_type": "code",
   "execution_count": 1,
   "metadata": {},
   "outputs": [
    {
     "ename": "TypeError",
     "evalue": "the JSON object must be str, bytes or bytearray, not dict",
     "output_type": "error",
     "traceback": [
      "\u001b[1;31m---------------------------------------------------------------------------\u001b[0m",
      "\u001b[1;31mTypeError\u001b[0m                                 Traceback (most recent call last)",
      "Cell \u001b[1;32mIn[1], line 14\u001b[0m\n\u001b[0;32m     12\u001b[0m \u001b[38;5;66;03m# Parse the JSON response\u001b[39;00m\n\u001b[0;32m     13\u001b[0m data \u001b[38;5;241m=\u001b[39m response\u001b[38;5;241m.\u001b[39mjson()\n\u001b[1;32m---> 14\u001b[0m dataset \u001b[38;5;241m=\u001b[39m \u001b[43mjson\u001b[49m\u001b[38;5;241;43m.\u001b[39;49m\u001b[43mloads\u001b[49m\u001b[43m(\u001b[49m\u001b[43mdata\u001b[49m\u001b[43m)\u001b[49m\n\u001b[0;32m     16\u001b[0m \u001b[38;5;28mprint\u001b[39m(dataset)\n\u001b[0;32m     18\u001b[0m \u001b[38;5;66;03m# Create a DataFrame from the JSON data\u001b[39;00m\n\u001b[0;32m     19\u001b[0m \u001b[38;5;66;03m# csv_data = pd.DataFrame(list(data['value'].items()), columns=['Key', 'Value'])\u001b[39;00m\n\u001b[0;32m     20\u001b[0m \n\u001b[1;32m   (...)\u001b[0m\n\u001b[0;32m     24\u001b[0m \u001b[38;5;66;03m# Optional: print or view the csv_data variable\u001b[39;00m\n\u001b[0;32m     25\u001b[0m \u001b[38;5;66;03m# print(csv_data)\u001b[39;00m\n",
      "File \u001b[1;32mc:\\Users\\Erwin\\AppData\\Local\\Programs\\Python\\Python312\\Lib\\json\\__init__.py:339\u001b[0m, in \u001b[0;36mloads\u001b[1;34m(s, cls, object_hook, parse_float, parse_int, parse_constant, object_pairs_hook, **kw)\u001b[0m\n\u001b[0;32m    337\u001b[0m \u001b[38;5;28;01melse\u001b[39;00m:\n\u001b[0;32m    338\u001b[0m     \u001b[38;5;28;01mif\u001b[39;00m \u001b[38;5;129;01mnot\u001b[39;00m \u001b[38;5;28misinstance\u001b[39m(s, (\u001b[38;5;28mbytes\u001b[39m, \u001b[38;5;28mbytearray\u001b[39m)):\n\u001b[1;32m--> 339\u001b[0m         \u001b[38;5;28;01mraise\u001b[39;00m \u001b[38;5;167;01mTypeError\u001b[39;00m(\u001b[38;5;124mf\u001b[39m\u001b[38;5;124m'\u001b[39m\u001b[38;5;124mthe JSON object must be str, bytes or bytearray, \u001b[39m\u001b[38;5;124m'\u001b[39m\n\u001b[0;32m    340\u001b[0m                         \u001b[38;5;124mf\u001b[39m\u001b[38;5;124m'\u001b[39m\u001b[38;5;124mnot \u001b[39m\u001b[38;5;132;01m{\u001b[39;00ms\u001b[38;5;241m.\u001b[39m\u001b[38;5;18m__class__\u001b[39m\u001b[38;5;241m.\u001b[39m\u001b[38;5;18m__name__\u001b[39m\u001b[38;5;132;01m}\u001b[39;00m\u001b[38;5;124m'\u001b[39m)\n\u001b[0;32m    341\u001b[0m     s \u001b[38;5;241m=\u001b[39m s\u001b[38;5;241m.\u001b[39mdecode(detect_encoding(s), \u001b[38;5;124m'\u001b[39m\u001b[38;5;124msurrogatepass\u001b[39m\u001b[38;5;124m'\u001b[39m)\n\u001b[0;32m    343\u001b[0m \u001b[38;5;28;01mif\u001b[39;00m (\u001b[38;5;28mcls\u001b[39m \u001b[38;5;129;01mis\u001b[39;00m \u001b[38;5;28;01mNone\u001b[39;00m \u001b[38;5;129;01mand\u001b[39;00m object_hook \u001b[38;5;129;01mis\u001b[39;00m \u001b[38;5;28;01mNone\u001b[39;00m \u001b[38;5;129;01mand\u001b[39;00m\n\u001b[0;32m    344\u001b[0m         parse_int \u001b[38;5;129;01mis\u001b[39;00m \u001b[38;5;28;01mNone\u001b[39;00m \u001b[38;5;129;01mand\u001b[39;00m parse_float \u001b[38;5;129;01mis\u001b[39;00m \u001b[38;5;28;01mNone\u001b[39;00m \u001b[38;5;129;01mand\u001b[39;00m\n\u001b[0;32m    345\u001b[0m         parse_constant \u001b[38;5;129;01mis\u001b[39;00m \u001b[38;5;28;01mNone\u001b[39;00m \u001b[38;5;129;01mand\u001b[39;00m object_pairs_hook \u001b[38;5;129;01mis\u001b[39;00m \u001b[38;5;28;01mNone\u001b[39;00m \u001b[38;5;129;01mand\u001b[39;00m \u001b[38;5;129;01mnot\u001b[39;00m kw):\n",
      "\u001b[1;31mTypeError\u001b[0m: the JSON object must be str, bytes or bytearray, not dict"
     ]
    }
   ],
   "source": [
    "import pandas as pd\n",
    "import requests\n",
    "import matplotlib.pyplot as plt\n",
    "import json\n",
    "\n",
    "# URL to fetch the data from Eurostat\n",
    "url = \"https://ec.europa.eu/eurostat/api/dissemination/statistics/1.0/data/sdg_13_31?format=JSON&lang=EN\"\n",
    "\n",
    "# Request the data\n",
    "response = requests.get(url)\n",
    "\n",
    "# Parse the JSON response\n",
    "data = response.json()\n",
    "dataset = json.loads(data)\n",
    "\n",
    "print(dataset)\n",
    "\n",
    "# Create a DataFrame from the JSON data\n",
    "# csv_data = pd.DataFrame(list(data['value'].items()), columns=['Key', 'Value'])\n",
    "\n",
    "# Save to a CSV file\n",
    "# csv_data.to_csv(index=False)\n",
    "\n",
    "# Optional: print or view the csv_data variable\n",
    "# print(csv_data)\n",
    "\n",
    "\n"
   ]
  }
 ],
 "metadata": {
  "kernelspec": {
   "display_name": "Python 3",
   "language": "python",
   "name": "python3"
  },
  "language_info": {
   "codemirror_mode": {
    "name": "ipython",
    "version": 3
   },
   "file_extension": ".py",
   "mimetype": "text/x-python",
   "name": "python",
   "nbconvert_exporter": "python",
   "pygments_lexer": "ipython3",
   "version": "3.12.3"
  }
 },
 "nbformat": 4,
 "nbformat_minor": 2
}
